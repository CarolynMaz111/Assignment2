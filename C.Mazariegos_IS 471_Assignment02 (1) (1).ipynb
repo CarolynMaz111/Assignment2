{
 "cells": [
  {
   "cell_type": "markdown",
   "metadata": {},
   "source": [
    "### Assignment 2 - Python Basics and Decision Structures"
   ]
  },
  {
   "cell_type": "markdown",
   "metadata": {},
   "source": [
    "#### Task 1 - Numerical Calculations and Operator Precedence"
   ]
  },
  {
   "cell_type": "markdown",
   "metadata": {},
   "source": [
    "Provide code for each of the equations from the instruction sheet in Python (without simplifying!), preserving order of operations with parenthesis as needed. Save each calculation to a different variable and then print the variable to the output.  You should have three lines of output, one for each variable."
   ]
  },
  {
   "cell_type": "code",
   "execution_count": 5,
   "metadata": {},
   "outputs": [
    {
     "name": "stdout",
     "output_type": "stream",
     "text": [
      "3.0\n"
     ]
    }
   ],
   "source": [
    "print((3*5)/(2+3))"
   ]
  },
  {
   "cell_type": "code",
   "execution_count": 10,
   "metadata": {},
   "outputs": [
    {
     "name": "stdout",
     "output_type": "stream",
     "text": [
      "8.0\n"
     ]
    }
   ],
   "source": [
    "import math\n",
    "print(math.sqrt(7+9) *2)"
   ]
  },
  {
   "cell_type": "code",
   "execution_count": 1,
   "metadata": {},
   "outputs": [
    {
     "name": "stdout",
     "output_type": "stream",
     "text": [
      "-27\n"
     ]
    }
   ],
   "source": [
    "print((4-7)**3)"
   ]
  },
  {
   "cell_type": "markdown",
   "metadata": {},
   "source": [
    "#### Task 2 - Logical Operations\n",
    "\n",
    "You can combine logical statements to create more complex logical structures.  For example, we know that we cannot divide by 0.  Imagine that we had a value X that we wanted to divide by Y*Z.  If either Y or Z are 0, it would cause an error.  Write a code block that does the following:\n",
    "1. Assign 100 to the variable X\n",
    "2. Assign 5 to the variable Y\n",
    "3. Assign 2 to the variable Z\n",
    "4. Write code to test whether the product of Y and Z equals 0.  If this is true, inform the user that the calculation cannot be executed.  Otherwise, perform the calculation and provide the result.  You should get a result of 10.\n",
    "5. Change the value of Z to 0 in your code block and rerun.  You should now get the message that the calculation cannot be executed.\n"
   ]
  },
  {
   "cell_type": "code",
   "execution_count": 18,
   "metadata": {},
   "outputs": [
    {
     "name": "stdout",
     "output_type": "stream",
     "text": [
      "10.0\n"
     ]
    }
   ],
   "source": [
    "#Assign values\n",
    "X = 100 \n",
    "Y = 5\n",
    "Z = 2\n",
    "\n",
    "#Check if the product of Y and Z equals 0\n",
    "if Y*Z == 0:\n",
    "    #inform user the calculation cannot be executed\n",
    "    print('The calculation cannot be executed.')\n",
    "    \n",
    "else :\n",
    "    #Calculate and provide result\n",
    "    result = X / (Y*Z)\n",
    "    print(result)\n",
    "    "
   ]
  },
  {
   "cell_type": "code",
   "execution_count": 17,
   "metadata": {},
   "outputs": [
    {
     "name": "stdout",
     "output_type": "stream",
     "text": [
      "The calculation cannot be executed.\n"
     ]
    }
   ],
   "source": [
    "X = 100 \n",
    "Y = 5\n",
    "Z = 0\n",
    "if Y*Z == 0:\n",
    "    print('The calculation cannot be executed.')\n",
    "    \n",
    "else :\n",
    "    result = X / (Y*Z)\n",
    "    print(result)"
   ]
  },
  {
   "cell_type": "markdown",
   "metadata": {},
   "source": [
    "#### Task 3 - Coding the Rock, Paper, Scissors Game\n",
    "\n",
    "We are going to code the game 'Rock Paper Scissors.'  Just in case you have forgotten, the logic is on the instruction sheet.\n",
    "\n",
    "You will have two variables, player1 and player2. Use the input function in Python to capture the value from the user and assign to a variable.  Test the input values to make sure that they are valid (one of the three valid values), and if not, alert the user and do not execute the game. Assign each variable with one of the three possible values.  \n",
    "Then write the code to print the result to the output.  For example, suppose that:\n",
    "\n",
    "player1 == ‘rock’\n",
    "\n",
    "player2 == ‘paper’\n",
    "\n",
    "According to the rules, paper beats rock, so player 2 should win. Your code should account for all possible combinations."
   ]
  },
  {
   "cell_type": "code",
   "execution_count": 25,
   "metadata": {},
   "outputs": [
    {
     "name": "stdout",
     "output_type": "stream",
     "text": [
      "Player 1, enter 'rock', 'paper', or 'scissors': rock\n",
      "Player 2, enter 'rock', 'paper', or 'scissors': paper\n",
      "Player 2 wins\n"
     ]
    }
   ],
   "source": [
    "#Input from players\n",
    "player1 = input(\"Player 1, enter 'rock', 'paper', or 'scissors': \").lower()\n",
    "player2 = input(\"Player 2, enter 'rock', 'paper', or 'scissors': \").lower()\n",
    "\n",
    "#Check if inputs are valid\n",
    "valid_inputs = ['rock', 'paper', 'scissors']\n",
    "\n",
    "if player1 not in valid_inputs or player2 not in valid_inputs:\n",
    "    print(\"Invalid input. Please enter 'rock', 'paper', or 'scissors'.\")\n",
    "\n",
    "else:\n",
    "    #Determine the winner\n",
    "    if player1 == player2:\n",
    "        print(\"It's a tie\")\n",
    "    \n",
    "    elif (player1 == 'rock' and player2 == 'scissors') or \\\n",
    "         (player1 == 'paper' and player2 == 'rock') or \\\n",
    "         (player1 == 'scissors' and player2 == 'paper'):\n",
    "        print(\"Player 1 wins\") \n",
    "        \n",
    "    else:\n",
    "         print(\"Player 2 wins\")\n"
   ]
  }
 ],
 "metadata": {
  "kernelspec": {
   "display_name": "Python 3 (ipykernel)",
   "language": "python",
   "name": "python3"
  },
  "language_info": {
   "codemirror_mode": {
    "name": "ipython",
    "version": 3
   },
   "file_extension": ".py",
   "mimetype": "text/x-python",
   "name": "python",
   "nbconvert_exporter": "python",
   "pygments_lexer": "ipython3",
   "version": "3.11.5"
  }
 },
 "nbformat": 4,
 "nbformat_minor": 2
}
